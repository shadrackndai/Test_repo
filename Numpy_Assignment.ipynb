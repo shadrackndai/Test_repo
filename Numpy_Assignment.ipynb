{
 "cells": [
  {
   "cell_type": "code",
   "execution_count": 1,
   "id": "63132071-0754-48d4-a5f7-29af5543406e",
   "metadata": {},
   "outputs": [],
   "source": [
    "import numpy as np"
   ]
  },
  {
   "cell_type": "code",
   "execution_count": 2,
   "id": "8a0d03c8-29d7-4c3a-9fb2-1e80958b9f2a",
   "metadata": {},
   "outputs": [],
   "source": [
    "heights = np.array([160, 155, 172, 165, 180, 158, 175, 163, 171, 168])"
   ]
  },
  {
   "cell_type": "code",
   "execution_count": 3,
   "id": "10fb49db-2541-4afc-955a-05c99ec644f0",
   "metadata": {},
   "outputs": [
    {
     "name": "stdout",
     "output_type": "stream",
     "text": [
      "Mean:  166.7 \n",
      "Median:  166.5 \n",
      "Standard deviation: 7.5372408744845085\n"
     ]
    }
   ],
   "source": [
    "#Calculate the mean, median and standard deviation of the students heights\n",
    "mean = np.mean(heights)\n",
    "median = np.median(heights)\n",
    "std_dev = np.std(heights)\n",
    "print(\"Mean: \",mean,\"\\nMedian: \",median,\"\\nStandard deviation:\",std_dev)"
   ]
  },
  {
   "cell_type": "code",
   "execution_count": 6,
   "id": "c476a645-0957-467d-9f08-1f7da4313c8c",
   "metadata": {},
   "outputs": [],
   "source": [
    "heights_normalized = (heights-mean)/std_dev"
   ]
  },
  {
   "cell_type": "code",
   "execution_count": 9,
   "id": "fc87267a-54bf-458a-aad5-85543cf7abd0",
   "metadata": {},
   "outputs": [
    {
     "name": "stdout",
     "output_type": "stream",
     "text": [
      "The tallest is student:  4 \n",
      "The shortest is student:  1\n"
     ]
    }
   ],
   "source": [
    "#Determine the tallest and shortest student in the class\n",
    "tallest = np.argmax(heights)\n",
    "shortest = np.argmin(heights)\n",
    "print(\"The tallest is student: \",tallest,\"\\nThe shortest is student: \",shortest)"
   ]
  },
  {
   "cell_type": "code",
   "execution_count": 10,
   "id": "911c07c7-a9e5-45bc-a347-23352e5d9d79",
   "metadata": {},
   "outputs": [
    {
     "name": "stdout",
     "output_type": "stream",
     "text": [
      "The difference in heights is:  25\n"
     ]
    }
   ],
   "source": [
    "#calculate the difference between the tallest and the shortest students heights\n",
    "difference_heights = np.max(heights)-np.min(heights)\n",
    "print(\"The difference in heights is: \",difference_heights)"
   ]
  },
  {
   "cell_type": "code",
   "execution_count": 11,
   "id": "582ef496-9070-44a3-b987-ad40a26e6022",
   "metadata": {},
   "outputs": [
    {
     "data": {
      "text/plain": [
       "array([163, 180, 165, 172, 175])"
      ]
     },
     "execution_count": 11,
     "metadata": {},
     "output_type": "execute_result"
    }
   ],
   "source": [
    "#Randomly select 5 heights from the dataset without replacement\n",
    "randomly_selected = np.random.choice(heights,5,replace=False)\n",
    "randomly_selected"
   ]
  },
  {
   "cell_type": "code",
   "execution_count": null,
   "id": "bd9fe6f1-50c9-4b08-8bfe-083ff1fbcf34",
   "metadata": {},
   "outputs": [],
   "source": []
  },
  {
   "cell_type": "code",
   "execution_count": null,
   "id": "960f3046-e858-4d2b-89d7-bfc5644d0cf1",
   "metadata": {},
   "outputs": [],
   "source": []
  },
  {
   "cell_type": "code",
   "execution_count": null,
   "id": "8d7fcb64-ee9e-4eb7-b435-d306b290eb13",
   "metadata": {},
   "outputs": [],
   "source": []
  },
  {
   "cell_type": "code",
   "execution_count": null,
   "id": "dc769508-2264-4366-aca5-bc5822b9b87a",
   "metadata": {},
   "outputs": [],
   "source": []
  }
 ],
 "metadata": {
  "kernelspec": {
   "display_name": "Python 3 (ipykernel)",
   "language": "python",
   "name": "python3"
  },
  "language_info": {
   "codemirror_mode": {
    "name": "ipython",
    "version": 3
   },
   "file_extension": ".py",
   "mimetype": "text/x-python",
   "name": "python",
   "nbconvert_exporter": "python",
   "pygments_lexer": "ipython3",
   "version": "3.9.19"
  }
 },
 "nbformat": 4,
 "nbformat_minor": 5
}
